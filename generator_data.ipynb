{
 "cells": [
  {
   "cell_type": "code",
   "execution_count": 1,
   "metadata": {},
   "outputs": [],
   "source": [
    "from faker import Faker\n",
    "import numpy as np\n",
    "import pandas as pd\n",
    "import random as rd\n",
    "from datetime import date\n",
    "import math"
   ]
  },
  {
   "cell_type": "code",
   "execution_count": 2,
   "metadata": {},
   "outputs": [],
   "source": [
    "#Daniela\n",
    "#Puntaje de un producto -> top 5 de puntuación más alta -> dataset productos\n",
    "\n",
    "#Cantidad de ventas mensuales por producto. Proyección de venta por producto. -> precio unitario de cada producto comparar con el total MENSUAL -> top 5 dataset ventas y productos\n",
    "\n",
    "#Ingresos en dólares -> suma de todos los total price goupby id_farmacia -> dataset ventas\n",
    "\n",
    "#Cantidad de descargas de la app -> count de true tiene app -> dataset clientes\n",
    "\n",
    "#Andrés\n",
    "\n",
    "#Unidades vendidas por farmacia -> suma de todas las cantidades goupby id_farmacia -> dataset ventas\n",
    "\n",
    "#Costos variables en dólares  -> top 10 costo variable + costo fijo  de cada farmacia -> dataset farmacias\n",
    "\n",
    "#Fecha de caducidad de producto -> fecha de caducidad - fecha actual -> dataset productos\n",
    "\n",
    "\n",
    "\n",
    "#dataset de clientes (300) -> id, nombre, edad, ubicación, comentarios, tiene app,\n",
    "\n",
    "#dataset de farmacias (15) -> id, nombre, ubicación, cantidad de productos, cantidad de ventas semanales, costo fijo, costo variable\n",
    "\n",
    "#dataset ventas (300) -> = [\"id\", \"id_farmacia\", \"id_client\",\"name_client\", \"product_id\", \"product_name\", \"quantity\",\"price\", \"total_price\",\"date\"]\n",
    "\n",
    "#dataset de productos (200) -> id, nombre, precio, fecha de caducidad, cantidad de ventas semanales, puntaje, comentarios\n",
    "\n"
   ]
  },
  {
   "cell_type": "code",
   "execution_count": 3,
   "metadata": {},
   "outputs": [],
   "source": [
    "products= [\"id\", \"nombre\", \"price\", \"fecha_caducidad\", \"puntaje\"]\n",
    "clients = [\"id\", \"nombre\", \"ubicacion\", \"tiene app\"]\n",
    "farmacias = [\"id\", \"nombre\", \"ubicacion\", \"cantidad de productos\", \"costo fijo\", \"costo variable\"]\n",
    "sales = [\"id\", \"id_farmacia\", \"id_client\",\"name_client\", \"product_id\", \"product_name\", \"quantity\",\"price\", \"total_price\",\"date\"]\n"
   ]
  },
  {
   "cell_type": "code",
   "execution_count": 4,
   "metadata": {},
   "outputs": [],
   "source": [
    "df_products=pd.read_csv('./datasets/walgreens_products_dataset-crawl_feeds.csv')\n",
    "df_products=df_products[[\"uniq_id\",\"title\",\"price\"]]\n",
    "df_products.dropna(inplace=True)\n",
    "range_puntuacion=(0,5)\n",
    "#range_date=('2021-05-01','2021-07-01')\n",
    "\n"
   ]
  },
  {
   "cell_type": "code",
   "execution_count": 5,
   "metadata": {},
   "outputs": [],
   "source": [
    "Faker.seed(0)\n",
    "faker= Faker(['en-US'])\n",
    "rd.seed(0)\n",
    "sample_num=50"
   ]
  },
  {
   "cell_type": "code",
   "execution_count": 6,
   "metadata": {},
   "outputs": [],
   "source": [
    "from datetime import date, timedelta\n",
    "import datetime\n",
    "from random import choices"
   ]
  },
  {
   "cell_type": "code",
   "execution_count": 7,
   "metadata": {},
   "outputs": [],
   "source": [
    "def generate_date(star, end):\n",
    "    \n",
    "    #star = datetime.date(2022,1,20)\n",
    "    #end = datetime.date(2025,12,1)\n",
    "    \n",
    "    time_between_dates = end - star\n",
    "    days_between_dates = time_between_dates.days\n",
    "    random_number_of_days = rd.randrange(days_between_dates)\n",
    "    random_date = star + datetime.timedelta(days=random_number_of_days)\n",
    "    random_date = random_date.strftime(\"%d-%m-%Y\")\n",
    "    return random_date"
   ]
  },
  {
   "cell_type": "code",
   "execution_count": 8,
   "metadata": {},
   "outputs": [
    {
     "data": {
      "text/plain": [
       "'18-03-2024'"
      ]
     },
     "execution_count": 8,
     "metadata": {},
     "output_type": "execute_result"
    }
   ],
   "source": [
    "generate_date(datetime.date(2022,1,20), datetime.date(2025,12,1))"
   ]
  },
  {
   "cell_type": "code",
   "execution_count": 9,
   "metadata": {},
   "outputs": [
    {
     "data": {
      "text/html": [
       "<div>\n",
       "<style scoped>\n",
       "    .dataframe tbody tr th:only-of-type {\n",
       "        vertical-align: middle;\n",
       "    }\n",
       "\n",
       "    .dataframe tbody tr th {\n",
       "        vertical-align: top;\n",
       "    }\n",
       "\n",
       "    .dataframe thead th {\n",
       "        text-align: right;\n",
       "    }\n",
       "</style>\n",
       "<table border=\"1\" class=\"dataframe\">\n",
       "  <thead>\n",
       "    <tr style=\"text-align: right;\">\n",
       "      <th></th>\n",
       "      <th>id</th>\n",
       "      <th>nombre</th>\n",
       "      <th>price</th>\n",
       "      <th>fecha_caducidad</th>\n",
       "      <th>puntaje</th>\n",
       "    </tr>\n",
       "  </thead>\n",
       "  <tbody>\n",
       "    <tr>\n",
       "      <th>0</th>\n",
       "      <td>0</td>\n",
       "      <td>Rockstar Punched Fruit Punch Flavor Energy Drink</td>\n",
       "      <td>6.99</td>\n",
       "      <td>30-05-2025</td>\n",
       "      <td>0.161938</td>\n",
       "    </tr>\n",
       "    <tr>\n",
       "      <th>1</th>\n",
       "      <td>1</td>\n",
       "      <td>Alaffia EveryDay Coconut Vegan Lip Balm,  Pure...</td>\n",
       "      <td>2.99</td>\n",
       "      <td>11-10-2025</td>\n",
       "      <td>0.809868</td>\n",
       "    </tr>\n",
       "    <tr>\n",
       "      <th>2</th>\n",
       "      <td>2</td>\n",
       "      <td>PURA D'OR Hair Thinning Therapy Shampoo</td>\n",
       "      <td>24.99</td>\n",
       "      <td>22-09-2025</td>\n",
       "      <td>0.358049</td>\n",
       "    </tr>\n",
       "    <tr>\n",
       "      <th>3</th>\n",
       "      <td>3</td>\n",
       "      <td>Maui Moisture Thicken &amp; Restore + Bamboo Fiber...</td>\n",
       "      <td>7.09</td>\n",
       "      <td>18-11-2025</td>\n",
       "      <td>0.139274</td>\n",
       "    </tr>\n",
       "    <tr>\n",
       "      <th>4</th>\n",
       "      <td>4</td>\n",
       "      <td>Boost High Protein Complete Nutritional Drink ...</td>\n",
       "      <td>17.49</td>\n",
       "      <td>02-08-2023</td>\n",
       "      <td>1.236738</td>\n",
       "    </tr>\n",
       "    <tr>\n",
       "      <th>...</th>\n",
       "      <td>...</td>\n",
       "      <td>...</td>\n",
       "      <td>...</td>\n",
       "      <td>...</td>\n",
       "      <td>...</td>\n",
       "    </tr>\n",
       "    <tr>\n",
       "      <th>195</th>\n",
       "      <td>195</td>\n",
       "      <td>Drive Medical Clever Lite LS Walker Rollator w...</td>\n",
       "      <td>92.59</td>\n",
       "      <td>01-07-2024</td>\n",
       "      <td>0.130158</td>\n",
       "    </tr>\n",
       "    <tr>\n",
       "      <th>196</th>\n",
       "      <td>196</td>\n",
       "      <td>AXE Body Wash Black</td>\n",
       "      <td>5.49</td>\n",
       "      <td>30-01-2025</td>\n",
       "      <td>0.670026</td>\n",
       "    </tr>\n",
       "    <tr>\n",
       "      <th>197</th>\n",
       "      <td>197</td>\n",
       "      <td>Medline Overbed Table</td>\n",
       "      <td>72.49</td>\n",
       "      <td>17-09-2024</td>\n",
       "      <td>3.748507</td>\n",
       "    </tr>\n",
       "    <tr>\n",
       "      <th>198</th>\n",
       "      <td>198</td>\n",
       "      <td>Medline Protect Plus Protective Underwear X-La...</td>\n",
       "      <td>89.99</td>\n",
       "      <td>19-11-2024</td>\n",
       "      <td>0.000000</td>\n",
       "    </tr>\n",
       "    <tr>\n",
       "      <th>199</th>\n",
       "      <td>199</td>\n",
       "      <td>Mattel UNO Card Game</td>\n",
       "      <td>5.99</td>\n",
       "      <td>18-08-2023</td>\n",
       "      <td>1.066456</td>\n",
       "    </tr>\n",
       "  </tbody>\n",
       "</table>\n",
       "<p>200 rows × 5 columns</p>\n",
       "</div>"
      ],
      "text/plain": [
       "      id                                             nombre  price  \\\n",
       "0      0   Rockstar Punched Fruit Punch Flavor Energy Drink   6.99   \n",
       "1      1  Alaffia EveryDay Coconut Vegan Lip Balm,  Pure...   2.99   \n",
       "2      2            PURA D'OR Hair Thinning Therapy Shampoo  24.99   \n",
       "3      3  Maui Moisture Thicken & Restore + Bamboo Fiber...   7.09   \n",
       "4      4  Boost High Protein Complete Nutritional Drink ...  17.49   \n",
       "..   ...                                                ...    ...   \n",
       "195  195  Drive Medical Clever Lite LS Walker Rollator w...  92.59   \n",
       "196  196                                AXE Body Wash Black   5.49   \n",
       "197  197                              Medline Overbed Table  72.49   \n",
       "198  198  Medline Protect Plus Protective Underwear X-La...  89.99   \n",
       "199  199                               Mattel UNO Card Game   5.99   \n",
       "\n",
       "    fecha_caducidad   puntaje  \n",
       "0        30-05-2025  0.161938  \n",
       "1        11-10-2025  0.809868  \n",
       "2        22-09-2025  0.358049  \n",
       "3        18-11-2025  0.139274  \n",
       "4        02-08-2023  1.236738  \n",
       "..              ...       ...  \n",
       "195      01-07-2024  0.130158  \n",
       "196      30-01-2025  0.670026  \n",
       "197      17-09-2024  3.748507  \n",
       "198      19-11-2024  0.000000  \n",
       "199      18-08-2023  1.066456  \n",
       "\n",
       "[200 rows x 5 columns]"
      ]
     },
     "execution_count": 9,
     "metadata": {},
     "output_type": "execute_result"
    }
   ],
   "source": [
    "def generate_products(quantity,df_products,range_puntuacion,products_labels):\n",
    "    list_products=[]\n",
    "    for i in range(quantity):\n",
    "        id = i       \n",
    "        sample=df_products.sample()\n",
    "        #code=int(sample['code'])\n",
    "        name=sample['title'].values[0]\n",
    "        price = sample['price'].values[0]\n",
    "        price = price.replace(\"$\",\"\")\n",
    "\n",
    "        if(\"/\" in price):\n",
    "            price= price.split(\"/\")[1].split(\" \")[0]\n",
    "            \n",
    "        price = float(price.replace(\",\",\"\"))\n",
    "        fecha = generate_date(datetime.date(2023,1,20), datetime.date(2025,12,1))\n",
    "        puntaje=rd.random()*rd.randint(*range_puntuacion)\n",
    "        list_products.append((id,name,price,fecha,puntaje))\n",
    "    return pd.DataFrame(list_products,columns=products_labels)\n",
    " \n",
    "generate_products(200, df_products, range_puntuacion, products)\n",
    "# products= [\"id\", \"nombre\", \"price\", \"fecha_caducidad\", \"puntaje\"]"
   ]
  },
  {
   "cell_type": "code",
   "execution_count": 10,
   "metadata": {},
   "outputs": [],
   "source": [
    "# clients = [\"id\", \"nombre\", \"ubicacion\", \"tiene app\"]\n",
    "def generate_clients(quantity, clients_labels):\n",
    "    list_clients=[]\n",
    "    for i in range(quantity):\n",
    "        id= faker.ssn()\n",
    "        name = faker.name()\n",
    "        location = faker.address()\n",
    "        tiene_app = rd.randint(0,1)\n",
    "        list_clients.append((id,name,location,tiene_app))\n",
    "    return pd.DataFrame(list_clients,columns=clients_labels)\n",
    "    \n",
    "    "
   ]
  },
  {
   "cell_type": "code",
   "execution_count": 11,
   "metadata": {},
   "outputs": [],
   "source": [
    "#farmacias = [\"id\", \"nombre\", \"ubicacion\", \"cantidad de productos\", \"costo fijo\", \"costo variable\"]\n",
    "def generate_pharmacys(quantity, farmacias_labels):\n",
    "    list_pharmacys=[]\n",
    "    for i in range(quantity):\n",
    "        id= i\n",
    "        name = faker.company()\n",
    "        location = faker.address()\n",
    "        cant_productos = rd.randint(0,1000)\n",
    "        costo_fijo = rd.randint(0,5000)\n",
    "        costo_variable = rd.randint(0,5000)\n",
    "        list_pharmacys.append((id,name,location,cant_productos,costo_fijo,costo_variable))\n",
    "    return pd.DataFrame(list_pharmacys,columns=farmacias_labels)"
   ]
  },
  {
   "cell_type": "code",
   "execution_count": 12,
   "metadata": {},
   "outputs": [],
   "source": [
    "#sales = [\"id\", \"id_farmacia\", \"id_client\",\"name_client\", \"product_id\", \"product_name\", \"quantity\",\"price\", \"total_price\",\"date\"]\n",
    "def generate_sales(quantity, sales_labels,df_products, df_farmacias, df_clients):\n",
    "    list_sales=[]\n",
    "    for i in range(quantity):\n",
    "        id= i\n",
    "        id_farmacia= rd.randint(0,df_farmacias.shape[0]-1)\n",
    "        #id_client= extract random data from column df_clients.id\n",
    "        index_c = rd.randint(0, df_clients.shape[0]-1)\n",
    "        index_p = rd.randint(0, df_products.shape[0]-1)\n",
    "        id_client= df_clients.iloc[index_c].id\n",
    "        name_client = df_clients.loc[df_clients['id'] == id_client, 'nombre'].iloc[0]\n",
    "        sample=df_products.sample()\n",
    "        product_id = df_products.iloc[index_p].id\n",
    "        \n",
    "\n",
    "        product_name = df_products.loc[df_products['id'] == product_id, 'nombre'].iloc[0]\n",
    "        cantidad = rd.randint(0,30)\n",
    "        price = df_products.loc[df_products['id'] == product_id, 'price'].iloc[0]\n",
    "        total_price = price*cantidad\n",
    "        #print(price)\n",
    "        date = generate_date(datetime.date(2022,9,20), datetime.date(2023,1,1))\n",
    "        list_sales.append((id,id_farmacia,id_client,name_client,product_id,product_name,cantidad,price,total_price,date))\n",
    "    return pd.DataFrame(list_sales,columns=sales_labels)"
   ]
  },
  {
   "cell_type": "code",
   "execution_count": 13,
   "metadata": {},
   "outputs": [],
   "source": [
    "df_product_gen=generate_products(200,df_products,range_puntuacion,products) \n",
    "df_client_gen=generate_clients(300,clients)\n",
    "df_farmacia_gen=generate_pharmacys(15,farmacias)\n",
    "df_sale_gen=generate_sales(500,sales,df_product_gen,df_farmacia_gen,df_client_gen)\n"
   ]
  },
  {
   "cell_type": "code",
   "execution_count": 14,
   "metadata": {},
   "outputs": [],
   "source": [
    "root_path='./data'"
   ]
  },
  {
   "cell_type": "code",
   "execution_count": 15,
   "metadata": {},
   "outputs": [],
   "source": [
    "df_product_gen.to_csv(f'{root_path}/products.csv',index=False)\n",
    "df_client_gen.to_csv(f'{root_path}/clients.csv',index=False)\n",
    "df_farmacia_gen.to_csv(f'{root_path}/farmacias.csv',index=False)\n",
    "df_sale_gen.to_csv(f'{root_path}/sales.csv',index=False)"
   ]
  }
 ],
 "metadata": {
  "kernelspec": {
   "display_name": "Python 3",
   "language": "python",
   "name": "python3"
  },
  "language_info": {
   "codemirror_mode": {
    "name": "ipython",
    "version": 3
   },
   "file_extension": ".py",
   "mimetype": "text/x-python",
   "name": "python",
   "nbconvert_exporter": "python",
   "pygments_lexer": "ipython3",
   "version": "3.10.9"
  },
  "orig_nbformat": 4,
  "vscode": {
   "interpreter": {
    "hash": "f8ca15d83b6fb72cece3edcf60f6aa40d2cbdeb5c60e0f188ff8c7c65828fd00"
   }
  }
 },
 "nbformat": 4,
 "nbformat_minor": 2
}
